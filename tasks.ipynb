{
 "cells": [
  {
   "cell_type": "markdown",
   "metadata": {},
   "source": [
    "# Tasks notebook\n",
    "***"
   ]
  },
  {
   "cell_type": "markdown",
   "metadata": {},
   "source": [
    "## Task 1 - Square roots (Newton's method)\n",
    "Newton's formula from https://math.mit.edu/~stevenj/18.335/newton-sqrt.pdf (page 1)."
   ]
  },
  {
   "cell_type": "code",
   "execution_count": 16,
   "metadata": {},
   "outputs": [],
   "source": [
    "def sqrt (x):\n",
    "    n = x \n",
    "    while (float(x > 0)) :\n",
    "        \n",
    "        #Newton's formula    \n",
    "        root = 0.5 * (n + (x / n))\n",
    "\n",
    "        #calculate until the difference \n",
    "        #between the root and n is less than 0.01\n",
    "                 \n",
    "        \n",
    "        if abs(root - n) < 0.01:\n",
    "            break \n",
    "        \n",
    "        #Returns the last calculated number for n\n",
    "        n = root\n",
    "    \n",
    "    return root"
   ]
  },
  {
   "cell_type": "code",
   "execution_count": 17,
   "metadata": {},
   "outputs": [
    {
     "data": {
      "text/plain": [
       "2.0000000929222947"
      ]
     },
     "execution_count": 17,
     "metadata": {},
     "output_type": "execute_result"
    }
   ],
   "source": [
    "#test\n",
    "sqrt(4)"
   ]
  }
 ],
 "metadata": {
  "language_info": {
   "name": "python"
  }
 },
 "nbformat": 4,
 "nbformat_minor": 2
}
